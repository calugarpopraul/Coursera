{
 "cells": [
  {
   "cell_type": "code",
   "execution_count": 1,
   "metadata": {},
   "outputs": [],
   "source": [
    "import tensorflow as tf\n",
    "import numpy as np"
   ]
  },
  {
   "cell_type": "code",
   "execution_count": 2,
   "metadata": {},
   "outputs": [
    {
     "name": "stdout",
     "output_type": "stream",
     "text": [
      "1.15.0\n"
     ]
    }
   ],
   "source": [
    "# tf.enable_eager_execution()\n",
    "print(tf.__version__)"
   ]
  },
  {
   "cell_type": "code",
   "execution_count": 3,
   "metadata": {},
   "outputs": [],
   "source": [
    "users = ['Ryan', 'Daniell', 'Vijay', 'Chris']\n",
    "movies = ['Star Wars', 'The Dark Knight', 'Shrek', 'The Incredibles', 'Bleu', 'Memento']\n",
    "features = ['Action', 'Sci-Fi', 'Comedy', 'Cartoon' ,'Drama']\n",
    "\n",
    "num_users = len(users)\n",
    "num_movies = len(movies)\n",
    "num_feats = len(features)"
   ]
  },
  {
   "cell_type": "code",
   "execution_count": 4,
   "metadata": {},
   "outputs": [],
   "source": [
    "users_movies = tf.constant([\n",
    "                [4, 6, 8, 0, 0],\n",
    "                [0, 0, 10, 0, 8],\n",
    "                [0, 6, 0, 0, 3],\n",
    "                [10, 9, 0, 5, 0]\n",
    "    ], dtype=tf.float32)"
   ]
  },
  {
   "cell_type": "code",
   "execution_count": 5,
   "metadata": {},
   "outputs": [],
   "source": [
    "movies_feats = tf.constant([\n",
    "            [1, 1, 0, 0, 1],\n",
    "            [1, 1, 0, 0, 0],\n",
    "            [0, 0, 1, 1, 0],\n",
    "            [1, 0, 1, 1, 0],\n",
    "            [0, 0, 0, 0, 1]\n",
    "], dtype=tf.float32)"
   ]
  },
  {
   "cell_type": "code",
   "execution_count": 29,
   "metadata": {},
   "outputs": [],
   "source": [
    "# each row represents a user's rating for the different movies\n",
    "users_movies = tf.constant([\n",
    "                [4,  6,  8,  0, 0, 0],\n",
    "                [0,  0, 10,  0, 8, 3],\n",
    "                [0,  6,  0,  0, 3, 7],\n",
    "                [10, 9,  0,  5, 0, 2]],dtype=tf.float32)\n",
    "\n",
    "# features of the movies one-hot encoded\n",
    "# e.g. columns could represent ['Action', 'Sci-Fi', 'Comedy', 'Cartoon', 'Drama']\n",
    "movies_feats = tf.constant([\n",
    "                [1, 1, 0, 0, 1],\n",
    "                [1, 1, 0, 0, 0],\n",
    "                [0, 0, 1, 1, 0],\n",
    "                [1, 0, 1, 1, 0],\n",
    "                [0, 0, 0, 0, 1],\n",
    "                [1, 0, 0, 0, 1]],dtype=tf.float32)"
   ]
  },
  {
   "cell_type": "code",
   "execution_count": 30,
   "metadata": {},
   "outputs": [],
   "source": [
    "wgtd_feature_matrices = [tf.expand_dims(tf.transpose(users_movies)[:, i], axis=1) * movies_feats for i in range(num_users)]"
   ]
  },
  {
   "cell_type": "code",
   "execution_count": 31,
   "metadata": {},
   "outputs": [
    {
     "data": {
      "text/plain": [
       "[<tf.Tensor 'mul_9:0' shape=(6, 5) dtype=float32>,\n",
       " <tf.Tensor 'mul_10:0' shape=(6, 5) dtype=float32>,\n",
       " <tf.Tensor 'mul_11:0' shape=(6, 5) dtype=float32>,\n",
       " <tf.Tensor 'mul_12:0' shape=(6, 5) dtype=float32>]"
      ]
     },
     "execution_count": 31,
     "metadata": {},
     "output_type": "execute_result"
    }
   ],
   "source": [
    "wgtd_feature_matrices"
   ]
  },
  {
   "cell_type": "code",
   "execution_count": 7,
   "metadata": {},
   "outputs": [],
   "source": [
    "users_movies_feats = tf.stack(wgtd_feature_matrices, axis=0)"
   ]
  },
  {
   "cell_type": "code",
   "execution_count": 8,
   "metadata": {},
   "outputs": [
    {
     "data": {
      "text/plain": [
       "<tf.Tensor 'stack:0' shape=(4, 5, 5) dtype=float32>"
      ]
     },
     "execution_count": 8,
     "metadata": {},
     "output_type": "execute_result"
    }
   ],
   "source": [
    "users_movies_feats"
   ]
  },
  {
   "cell_type": "code",
   "execution_count": 9,
   "metadata": {},
   "outputs": [],
   "source": [
    "users_movies_feats_sums = tf.reduce_sum(users_movies_feats, axis=1)\n",
    "users_movies_feats_totals = tf.reduce_sum(users_movies_feats_sums, axis=1)"
   ]
  },
  {
   "cell_type": "code",
   "execution_count": 10,
   "metadata": {},
   "outputs": [],
   "source": [
    "users_feats = tf.stack([users_movies_feats_sums[i, :] / users_movies_feats_totals[i] for i in range(num_users)], axis=0)"
   ]
  },
  {
   "cell_type": "code",
   "execution_count": 32,
   "metadata": {},
   "outputs": [
    {
     "data": {
      "text/plain": [
       "<tf.Tensor 'truediv_4:0' shape=(4, 5) dtype=float32>"
      ]
     },
     "execution_count": 32,
     "metadata": {},
     "output_type": "execute_result"
    }
   ],
   "source": [
    "users_feats = users_feats/tf.reduce_sum(users_feats,axis=1,keepdims=True)\n",
    "users_feats"
   ]
  },
  {
   "cell_type": "code",
   "execution_count": 34,
   "metadata": {},
   "outputs": [
    {
     "data": {
      "text/plain": [
       "<tf.Tensor 'truediv_4:0' shape=(4, 5) dtype=float32>"
      ]
     },
     "execution_count": 34,
     "metadata": {},
     "output_type": "execute_result"
    }
   ],
   "source": [
    "users_feats"
   ]
  },
  {
   "cell_type": "code",
   "execution_count": 36,
   "metadata": {},
   "outputs": [
    {
     "data": {
      "text/plain": [
       "<tf.Tensor 'TopKV2_4:1' shape=(4, 5) dtype=int32>"
      ]
     },
     "execution_count": 36,
     "metadata": {},
     "output_type": "execute_result"
    }
   ],
   "source": [
    "top_users_features = tf.nn.top_k(users_feats, num_feats)[1]\n",
    "top_users_features"
   ]
  },
  {
   "cell_type": "code",
   "execution_count": 11,
   "metadata": {},
   "outputs": [],
   "source": [
    "def find_user_top_feats(user_index):\n",
    "    feats_ind = tf.nn.top_k(users_feats[user_index], num_feats)[1]\n",
    "    return tf.gather_nd(features, tf.expand_dims(feats_ind, axis=1))"
   ]
  },
  {
   "cell_type": "code",
   "execution_count": 12,
   "metadata": {},
   "outputs": [
    {
     "name": "stdout",
     "output_type": "stream",
     "text": [
      "['Action' 'Sci-Fi' 'Comedy' 'Cartoon' 'Drama']\n",
      "['Comedy' 'Cartoon' 'Drama' 'Action' 'Sci-Fi']\n",
      "['Action' 'Sci-Fi' 'Drama' 'Comedy' 'Cartoon']\n",
      "['Action' 'Sci-Fi' 'Drama' 'Comedy' 'Cartoon']\n"
     ]
    }
   ],
   "source": [
    "with tf.Session() as sess:\n",
    "    sess.run(tf.global_variables_initializer())\n",
    "    users_topfeats = {}\n",
    "    for i in range(num_users):\n",
    "        top_feats = sess.run(find_user_top_feats(i))\n",
    "#         print(top_feats)\n",
    "        for j in range(len(top_feats)):\n",
    "            top_feats[j] = top_feats[j].decode('utf-8')\n",
    "        print(top_feats)\n",
    "        users_topfeats[users[i]] = list(top_feats)"
   ]
  },
  {
   "cell_type": "code",
   "execution_count": 13,
   "metadata": {},
   "outputs": [
    {
     "data": {
      "text/plain": [
       "{'Ryan': ['Action', 'Sci-Fi', 'Comedy', 'Cartoon', 'Drama'],\n",
       " 'Daniell': ['Comedy', 'Cartoon', 'Drama', 'Action', 'Sci-Fi'],\n",
       " 'Vijay': ['Action', 'Sci-Fi', 'Drama', 'Comedy', 'Cartoon'],\n",
       " 'Chris': ['Action', 'Sci-Fi', 'Drama', 'Comedy', 'Cartoon']}"
      ]
     },
     "execution_count": 13,
     "metadata": {},
     "output_type": "execute_result"
    }
   ],
   "source": [
    "users_topfeats"
   ]
  },
  {
   "cell_type": "code",
   "execution_count": 14,
   "metadata": {},
   "outputs": [
    {
     "data": {
      "text/plain": [
       "<tf.Tensor 'strided_slice_16:0' shape=(5,) dtype=float32>"
      ]
     },
     "execution_count": 14,
     "metadata": {},
     "output_type": "execute_result"
    }
   ],
   "source": [
    "users_feats[0]"
   ]
  },
  {
   "cell_type": "code",
   "execution_count": 15,
   "metadata": {},
   "outputs": [],
   "source": [
    "users_ratings = [tf.map_fn(lambda x: tf.tensordot(users_feats[i], x, axes=1), movies_feats) for i in range(num_users)]"
   ]
  },
  {
   "cell_type": "code",
   "execution_count": 16,
   "metadata": {},
   "outputs": [
    {
     "data": {
      "text/plain": [
       "[<tf.Tensor 'map/TensorArrayStack/TensorArrayGatherV3:0' shape=(5,) dtype=float32>,\n",
       " <tf.Tensor 'map_1/TensorArrayStack/TensorArrayGatherV3:0' shape=(5,) dtype=float32>,\n",
       " <tf.Tensor 'map_2/TensorArrayStack/TensorArrayGatherV3:0' shape=(5,) dtype=float32>,\n",
       " <tf.Tensor 'map_3/TensorArrayStack/TensorArrayGatherV3:0' shape=(5,) dtype=float32>]"
      ]
     },
     "execution_count": 16,
     "metadata": {},
     "output_type": "execute_result"
    }
   ],
   "source": [
    "users_ratings"
   ]
  },
  {
   "cell_type": "code",
   "execution_count": 20,
   "metadata": {},
   "outputs": [
    {
     "data": {
      "text/plain": [
       "[<tf.Tensor 'map/TensorArrayStack/TensorArrayGatherV3:0' shape=(5,) dtype=float32>,\n",
       " <tf.Tensor 'map_1/TensorArrayStack/TensorArrayGatherV3:0' shape=(5,) dtype=float32>,\n",
       " <tf.Tensor 'map_2/TensorArrayStack/TensorArrayGatherV3:0' shape=(5,) dtype=float32>,\n",
       " <tf.Tensor 'map_3/TensorArrayStack/TensorArrayGatherV3:0' shape=(5,) dtype=float32>]"
      ]
     },
     "execution_count": 20,
     "metadata": {},
     "output_type": "execute_result"
    }
   ],
   "source": [
    "users_ratings"
   ]
  },
  {
   "cell_type": "code",
   "execution_count": 17,
   "metadata": {},
   "outputs": [],
   "source": [
    "all_users_ratings = tf.stack(users_ratings)"
   ]
  },
  {
   "cell_type": "code",
   "execution_count": 24,
   "metadata": {},
   "outputs": [
    {
     "data": {
      "text/plain": [
       "<tf.Tensor 'strided_slice_18:0' shape=(5,) dtype=float32>"
      ]
     },
     "execution_count": 24,
     "metadata": {},
     "output_type": "execute_result"
    }
   ],
   "source": [
    "all_users_ratings[0]"
   ]
  },
  {
   "cell_type": "code",
   "execution_count": 18,
   "metadata": {},
   "outputs": [
    {
     "name": "stdout",
     "output_type": "stream",
     "text": [
      "WARNING:tensorflow:From <ipython-input-18-d2684f28f24a>:3: where (from tensorflow.python.ops.array_ops) is deprecated and will be removed in a future version.\n",
      "Instructions for updating:\n",
      "Use tf.where in 2.0, which has the same broadcast rule as np.where\n"
     ]
    }
   ],
   "source": [
    "all_users_ratings_new = tf.where(tf.equal(users_movies, tf.zeros_like(users_movies)),\n",
    "                                all_users_ratings,\n",
    "                                -np.inf*tf.ones_like(tf.cast(users_movies, tf.float32)))"
   ]
  },
  {
   "cell_type": "code",
   "execution_count": 39,
   "metadata": {},
   "outputs": [],
   "source": [
    "def find_user_top_movies(user_index, num_to_recommend):\n",
    "    m_ind = tf.nn.top_k(all_users_ratings_new[user_index], num_to_recommend)[1]\n",
    "    return tf.gather_nd(movies, tf.expand_dims(m_ind, axis=1))"
   ]
  },
  {
   "cell_type": "code",
   "execution_count": 40,
   "metadata": {},
   "outputs": [],
   "source": [
    "with tf.Session() as sess:\n",
    "    sess.run(tf.global_variables_initializer())\n",
    "    user_topmovies = {}\n",
    "    num_to_recommend = tf.reduce_sum(tf.cast(tf.equal(users_movies, tf.zeros_like(users_movies)), dtype=tf.float32), axis=1)\n",
    "    for index in range(num_users):\n",
    "        top_movies = sess.run(find_user_top_movies(index, tf.cast(num_to_recommend[index], dtype=tf.int32)))\n",
    "        user_topmovies[users[index]] = list(top_movies)"
   ]
  },
  {
   "cell_type": "code",
   "execution_count": 41,
   "metadata": {},
   "outputs": [
    {
     "data": {
      "text/plain": [
       "{'Ryan': [b'The Incredibles', b'Bleu', b'Star Wars'],\n",
       " 'Daniell': [b'The Incredibles', b'Star Wars', b'The Dark Knight'],\n",
       " 'Vijay': [b'Star Wars', b'The Incredibles', b'Shrek'],\n",
       " 'Chris': [b'Shrek', b'Bleu']}"
      ]
     },
     "execution_count": 41,
     "metadata": {},
     "output_type": "execute_result"
    }
   ],
   "source": [
    "user_topmovies"
   ]
  }
 ],
 "metadata": {
  "kernelspec": {
   "display_name": "tf",
   "language": "python",
   "name": "tf"
  },
  "language_info": {
   "codemirror_mode": {
    "name": "ipython",
    "version": 3
   },
   "file_extension": ".py",
   "mimetype": "text/x-python",
   "name": "python",
   "nbconvert_exporter": "python",
   "pygments_lexer": "ipython3",
   "version": "3.7.4"
  }
 },
 "nbformat": 4,
 "nbformat_minor": 4
}
