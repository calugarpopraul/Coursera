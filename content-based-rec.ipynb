{
 "cells": [
  {
   "cell_type": "code",
   "execution_count": 1,
   "metadata": {},
   "outputs": [],
   "source": [
    "import tensorflow as tf\n",
    "import numpy as np"
   ]
  },
  {
   "cell_type": "code",
   "execution_count": null,
   "metadata": {},
   "outputs": [],
   "source": [
    "content_id_column = tf.feature_column.categorical_column_with_hash_bucket(key=\"content_id\", hash_bucket_size=len(content_ids_list))\n",
    "embedded_content_column = tf.feature_column.embedding_column(categorical_column=content_id_column, dimension=10)"
   ]
  },
  {
   "cell_type": "code",
   "execution_count": null,
   "metadata": {},
   "outputs": [],
   "source": [
    "category_column_categorical = tf.feature_column.categorical_column_with_vocabulary_list(key=\"category\", vocabulary_list=categories_list, num_oov_buckets=1)\n",
    "category_column = tf.feature_column.indicator_column(category_column_categorial)"
   ]
  },
  {
   "cell_type": "code",
   "execution_count": null,
   "metadata": {},
   "outputs": [],
   "source": [
    "embedded_title_column = hub.text_embedding_column(key=\"title\", module_spec=\"https://tfhub.dev/google/nnlm-de-dim50/1\", trainable=False)"
   ]
  },
  {
   "cell_type": "code",
   "execution_count": null,
   "metadata": {},
   "outputs": [],
   "source": [
    "author_column = tf.feature_column.categorical_column_with_hash_bucket(key=\"author\", hash_bucket_size=len(authors_list) + 1)\n",
    "embedded_author_column = tf.feature_column.embedding_column(categorical_column=author_column, dimension=3)"
   ]
  },
  {
   "cell_type": "code",
   "execution_count": null,
   "metadata": {},
   "outputs": [],
   "source": [
    "months_since_epoch_column = tf.feature_column.numeric_column(key=\"months_since_epoch\")\n",
    "months_since_epoch_bucketized = tf.feature_column.bucketized_column(source_column=months_since_epoch_column, boundaries=months_since_epoch_boundaries)"
   ]
  },
  {
   "cell_type": "code",
   "execution_count": null,
   "metadata": {},
   "outputs": [],
   "source": [
    "net = tf.feature_column.input_layer(features, params['feature_columns'])\n",
    "for units in params['hidden_units']:\n",
    "    net = tf.layers.dense(net, units=units, activation=tf.relu)\n",
    "logits = tf.layers.dense(net, params['n_classes'], activation=None)"
   ]
  }
 ],
 "metadata": {
  "kernelspec": {
   "display_name": "tf",
   "language": "python",
   "name": "tf"
  },
  "language_info": {
   "codemirror_mode": {
    "name": "ipython",
    "version": 3
   },
   "file_extension": ".py",
   "mimetype": "text/x-python",
   "name": "python",
   "nbconvert_exporter": "python",
   "pygments_lexer": "ipython3",
   "version": "3.7.4"
  }
 },
 "nbformat": 4,
 "nbformat_minor": 4
}
